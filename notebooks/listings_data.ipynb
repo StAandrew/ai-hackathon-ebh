{
 "cells": [
  {
   "cell_type": "code",
   "execution_count": 16,
   "metadata": {},
   "outputs": [],
   "source": [
    "import json\n",
    "import os\n",
    "import sqlite3\n",
    "\n",
    "from dotenv import load_dotenv\n",
    "from jinja2 import Environment, FileSystemLoader, Template\n",
    "from openai import OpenAI"
   ]
  },
  {
   "cell_type": "code",
   "execution_count": 17,
   "metadata": {},
   "outputs": [
    {
     "data": {
      "text/plain": [
       "True"
      ]
     },
     "execution_count": 17,
     "metadata": {},
     "output_type": "execute_result"
    }
   ],
   "source": [
    "load_dotenv(\".env\")"
   ]
  },
  {
   "cell_type": "code",
   "execution_count": 18,
   "metadata": {},
   "outputs": [],
   "source": [
    "llm_client = OpenAI(\n",
    "    base_url=\"https://api.studio.nebius.ai/v1/\",\n",
    "    api_key=os.environ.get(\"NEBIUS_API_KEY\"),\n",
    ")"
   ]
  },
  {
   "cell_type": "code",
   "execution_count": 22,
   "metadata": {},
   "outputs": [
    {
     "name": "stdout",
     "output_type": "stream",
     "text": [
      "(0, 'id', 'TEXT', 0, None, 1)\n",
      "(1, 'url', 'TEXT', 0, None, 0)\n",
      "(2, 'number_of_bedrooms', 'INTEGER', 0, None, 0)\n",
      "(3, 'number_of_bathrooms', 'INTEGER', 0, None, 0)\n",
      "(4, 'title', 'TEXT', 0, None, 0)\n",
      "(5, 'description', 'TEXT', 0, None, 0)\n",
      "(6, 'property_type', 'TEXT', 0, None, 0)\n",
      "(7, 'address', 'TEXT', 0, None, 0)\n",
      "(8, 'postcode_short', 'TEXT', 0, None, 0)\n",
      "(9, 'postcode_long', 'TEXT', 0, None, 0)\n",
      "(10, 'price', 'INTEGER', 0, None, 0)\n",
      "(11, 'added_on', 'TEXT', 0, None, 0)\n",
      "(12, 'agent_name', 'TEXT', 0, None, 0)\n",
      "(13, 'agent_phone_number', 'TEXT', 0, None, 0)\n",
      "(14, 'image1_url', 'TEXT', 0, None, 0)\n",
      "(15, 'image2_url', 'TEXT', 0, None, 0)\n",
      "(16, 'image3_url', 'TEXT', 0, None, 0)\n",
      "(17, 'image4_url', 'TEXT', 0, None, 0)\n"
     ]
    }
   ],
   "source": [
    "# Step 1: Connect to the SQLite database (or create it if it doesn't exist)\n",
    "conn = sqlite3.connect('/Users/stas_chi/Documents/Projects/Izba AI/izba-ai/backend/databases/scraped_listings.db')  # Replace with your database file\n",
    "\n",
    "# Step 2: Create a cursor object\n",
    "cursor = conn.cursor()\n",
    "\n",
    "# Step 3: Run a SELECT query to fetch data\n",
    "# cursor.execute(\"SELECT AVG(price) FROM price_paid_data WHERE date_of_transfer LIKE '%/%/1995'\")\n",
    "# cursor.execute(\"SELECT name FROM sqlite_master WHERE type = 'table';\")\n",
    "\n",
    "# cursor.execute(\"SELECT price FROM listings;\")\n",
    "\n",
    "cursor.execute(\"PRAGMA table_info(listings);\")\n",
    "\n",
    "rows = cursor.fetchall()\n",
    "\n",
    "# Print the results\n",
    "# column_names = []\n",
    "# for row in rows:\n",
    "#     column_names.append(row[1])\n",
    "\n",
    "for row in rows:\n",
    "    print(row)\n",
    "\n",
    "# Step 4: Close the connection\n",
    "conn.close()"
   ]
  },
  {
   "cell_type": "code",
   "execution_count": null,
   "metadata": {},
   "outputs": [],
   "source": []
  }
 ],
 "metadata": {
  "kernelspec": {
   "display_name": "izba_ai-UUHFOrDR-py3.11",
   "language": "python",
   "name": "python3"
  },
  "language_info": {
   "codemirror_mode": {
    "name": "ipython",
    "version": 3
   },
   "file_extension": ".py",
   "mimetype": "text/x-python",
   "name": "python",
   "nbconvert_exporter": "python",
   "pygments_lexer": "ipython3",
   "version": "3.11.3"
  }
 },
 "nbformat": 4,
 "nbformat_minor": 2
}
